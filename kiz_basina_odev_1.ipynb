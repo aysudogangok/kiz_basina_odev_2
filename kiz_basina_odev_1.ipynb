{
  "nbformat": 4,
  "nbformat_minor": 0,
  "metadata": {
    "colab": {
      "provenance": [],
      "authorship_tag": "ABX9TyMXITkGlzJN/e4iHydHOHRq",
      "include_colab_link": true
    },
    "kernelspec": {
      "name": "python3",
      "display_name": "Python 3"
    },
    "language_info": {
      "name": "python"
    }
  },
  "cells": [
    {
      "cell_type": "markdown",
      "metadata": {
        "id": "view-in-github",
        "colab_type": "text"
      },
      "source": [
        "<a href=\"https://colab.research.google.com/github/aysudogangok/kiz_basina_odev_1/blob/main/kiz_basina_odev_1.ipynb\" target=\"_parent\"><img src=\"https://colab.research.google.com/assets/colab-badge.svg\" alt=\"Open In Colab\"/></a>"
      ]
    },
    {
      "cell_type": "code",
      "execution_count": 1,
      "metadata": {
        "colab": {
          "base_uri": "https://localhost:8080/"
        },
        "id": "jCYBT8lEcyb1",
        "outputId": "34972050-9289-4066-8783-f3dfcf6c94bd"
      },
      "outputs": [
        {
          "output_type": "stream",
          "name": "stdout",
          "text": [
            "Bir sayı giriniz: 1\n",
            "Pozitif sayı\n"
          ]
        }
      ],
      "source": [
        "# 1. Girilen sayının pozitif, negatif veya sıfır olduğunu yazan koşul\n",
        "\n",
        "sayi = int(input(\"Bir sayı giriniz: \"))\n",
        "\n",
        "if sayi > 0:\n",
        "    print(\"Pozitif sayı\")\n",
        "elif sayi < 0:\n",
        "    print(\"Negatif sayı\")\n",
        "else:\n",
        "    print(\"Sıfır\")"
      ]
    },
    {
      "cell_type": "code",
      "source": [
        "#2. Girilen sayının tek mi çift mi olduğunu yazan koşul\n",
        "\n",
        "sayi = int(input(\"Bir sayı giriniz: \"))\n",
        "\n",
        "if sayi % 2 == 0:\n",
        "    print(\"Çift sayı\")\n",
        "else:\n",
        "    print(\"Tek sayı\")"
      ],
      "metadata": {
        "colab": {
          "base_uri": "https://localhost:8080/"
        },
        "id": "Nvr-NPEbeCj-",
        "outputId": "533bf1af-88cc-475e-8cb3-0f5c26dc5671"
      },
      "execution_count": 2,
      "outputs": [
        {
          "output_type": "stream",
          "name": "stdout",
          "text": [
            "Bir sayı giriniz: 2\n",
            "Çift sayı\n"
          ]
        }
      ]
    },
    {
      "cell_type": "code",
      "source": [
        "# 3. Girilen nota göre harf aralığını yazan koşul (80-100 A, 60-80 B vs.)\n",
        "\n",
        "not_ = int(input(\"Notunuzu giriniz: \"))\n",
        "\n",
        "if 80 <= not_ <= 100:\n",
        "    print(\"A\")\n",
        "elif 60 <= not_ < 80:\n",
        "    print(\"B\")\n",
        "elif 40 <= not_ < 60:\n",
        "    print(\"C\")\n",
        "elif 20 <= not_ < 40:\n",
        "    print(\"D\")\n",
        "else:\n",
        "    print(\"F\")"
      ],
      "metadata": {
        "colab": {
          "base_uri": "https://localhost:8080/"
        },
        "id": "8XVlm_vZeJTg",
        "outputId": "6a46ea22-f99e-4df9-babf-5c59d3fb64bf"
      },
      "execution_count": 5,
      "outputs": [
        {
          "output_type": "stream",
          "name": "stdout",
          "text": [
            "Notunuzu giriniz: 85\n",
            "A\n"
          ]
        }
      ]
    },
    {
      "cell_type": "code",
      "source": [
        "# 4. Girilen ismin karakter sayısı 5’ten büyükse mesaj yazsın\n",
        "\n",
        "isim = input(\"İsminizi giriniz: \")\n",
        "\n",
        "if len(isim) > 5:\n",
        "    print(\"Uzun bir isminiz var.\")\n",
        "else:\n",
        "    print(\"İsminiz:\", isim)"
      ],
      "metadata": {
        "colab": {
          "base_uri": "https://localhost:8080/"
        },
        "id": "aAaAS8V2eamW",
        "outputId": "cad8431a-1533-4827-ea84-5d3a99c82a3e"
      },
      "execution_count": 7,
      "outputs": [
        {
          "output_type": "stream",
          "name": "stdout",
          "text": [
            "İsminizi giriniz: aysucan\n",
            "Uzun bir isminiz var.\n"
          ]
        }
      ]
    },
    {
      "cell_type": "code",
      "source": [
        "#5. Girilen sayının asal olup olmadığını bulan kod dizisi (for ve while)\n",
        "\n",
        "# for ile\n",
        "\n",
        "sayi = int(input(\"Bir sayı giriniz: \"))\n",
        "asal = True\n",
        "\n",
        "if sayi < 2:\n",
        "    asal = False\n",
        "else:\n",
        "    for i in range(2, sayi):\n",
        "        if sayi % i == 0:\n",
        "            asal = False\n",
        "            break\n",
        "\n",
        "if asal:\n",
        "    print(\"Asal sayı\")\n",
        "else:\n",
        "    print(\"Asal değil\")\n",
        "\n",
        "\n",
        "# while ile\n",
        "\n",
        "sayi = int(input(\"Bir sayı giriniz: \"))\n",
        "asal = True\n",
        "i = 2\n",
        "\n",
        "if sayi < 2:\n",
        "    asal = False\n",
        "else:\n",
        "    while i < sayi:\n",
        "        if sayi % i == 0:\n",
        "            asal = False\n",
        "            break\n",
        "        i += 1\n",
        "\n",
        "if asal:\n",
        "    print(\"Asal sayı\")\n",
        "else:\n",
        "    print(\"Asal değil\")"
      ],
      "metadata": {
        "colab": {
          "base_uri": "https://localhost:8080/"
        },
        "id": "3ouxNifuejaZ",
        "outputId": "fea3ac93-61ee-4ec2-c4b9-5b146c43d7b5"
      },
      "execution_count": 9,
      "outputs": [
        {
          "output_type": "stream",
          "name": "stdout",
          "text": [
            "Bir sayı giriniz: 5\n",
            "Asal sayı\n",
            "Bir sayı giriniz: 5\n",
            "Asal sayı\n"
          ]
        }
      ]
    },
    {
      "cell_type": "code",
      "source": [
        "# 6. Liste içindeki 75 değerinin indisini yazdıran döngü\n",
        "\n",
        "notlar = [45, 85, 75, 50]\n",
        "\n",
        "for i in range(len(notlar)):\n",
        "    if notlar[i] == 75:\n",
        "        print(\"75 değeri indeks:\", i)\n",
        "        break"
      ],
      "metadata": {
        "colab": {
          "base_uri": "https://localhost:8080/"
        },
        "id": "7cvPuXtWezsl",
        "outputId": "089b48ad-d74b-420e-dbd9-bb21527291a0"
      },
      "execution_count": 10,
      "outputs": [
        {
          "output_type": "stream",
          "name": "stdout",
          "text": [
            "75 değeri indeks: 2\n"
          ]
        }
      ]
    },
    {
      "cell_type": "code",
      "source": [
        "# 7. Girilen sayının faktöriyelini alma (for ve while)\n",
        "\n",
        "# for ile\n",
        "\n",
        "sayi = int(input(\"Bir sayı giriniz: \"))\n",
        "faktoriyel = 1\n",
        "\n",
        "for i in range(1, sayi + 1):\n",
        "    faktoriyel *= i\n",
        "\n",
        "print(\"Faktöriyel:\", faktoriyel)\n",
        "\n",
        "# while ile\n",
        "\n",
        "sayi = int(input(\"Bir sayı giriniz: \"))\n",
        "faktoriyel = 1\n",
        "i = 1\n",
        "\n",
        "while i <= sayi:\n",
        "    faktoriyel *= i\n",
        "    i += 1\n",
        "\n",
        "print(\"Faktöriyel:\", faktoriyel)"
      ],
      "metadata": {
        "colab": {
          "base_uri": "https://localhost:8080/"
        },
        "id": "ss_Nh97xe4dm",
        "outputId": "1906ef31-484a-416a-d1a9-58c59a5d1d24"
      },
      "execution_count": 11,
      "outputs": [
        {
          "output_type": "stream",
          "name": "stdout",
          "text": [
            "Bir sayı giriniz: 5\n",
            "Faktöriyel: 120\n",
            "Bir sayı giriniz: 5\n",
            "Faktöriyel: 120\n"
          ]
        }
      ]
    },
    {
      "cell_type": "code",
      "source": [
        "# 8. Pozitif sayı girilene kadar tekrar sayı isteyen yapı (for ile)\n",
        "\n",
        "for _ in range(100):  # Sınırsız tekrar gibi davranması için büyük bir sayı kullanıldı\n",
        "    sayi = int(input(\"Pozitif bir sayı giriniz: \"))\n",
        "    if sayi > 0:\n",
        "        print(\"Teşekkürler, pozitif sayı:\", sayi)\n",
        "        break\n",
        "    else:\n",
        "        print(\"Negatif girdiniz, tekrar deneyin.\")"
      ],
      "metadata": {
        "colab": {
          "base_uri": "https://localhost:8080/"
        },
        "id": "4KnZzl3vfDR2",
        "outputId": "f428a26a-82e4-4d06-c707-c40ef111bfd5"
      },
      "execution_count": 13,
      "outputs": [
        {
          "output_type": "stream",
          "name": "stdout",
          "text": [
            "Pozitif bir sayı giriniz: -5\n",
            "Negatif girdiniz, tekrar deneyin.\n",
            "Pozitif bir sayı giriniz: 5\n",
            "Teşekkürler, pozitif sayı: 5\n"
          ]
        }
      ]
    },
    {
      "cell_type": "code",
      "source": [
        "# 9. Fonksiyon ile asal sayı kontrolü (for ve while)\n",
        "\n",
        "# for ile\n",
        "\n",
        "def asal_mi(sayi):\n",
        "    if sayi < 2:\n",
        "        return False\n",
        "    for i in range(2, sayi):\n",
        "        if sayi % i == 0:\n",
        "            return False\n",
        "    return True\n",
        "\n",
        "sayi = int(input(\"Sayı giriniz: \"))\n",
        "print(\"Asal mı:\", asal_mi(sayi))\n",
        "\n",
        "# while ile\n",
        "\n",
        "def asal_mi(sayi):\n",
        "    if sayi < 2:\n",
        "        return False\n",
        "    i = 2\n",
        "    while i < sayi:\n",
        "        if sayi % i == 0:\n",
        "            return False\n",
        "        i += 1\n",
        "    return True\n",
        "\n",
        "sayi = int(input(\"Sayı giriniz: \"))\n",
        "print(\"Asal mı:\", asal_mi(sayi))"
      ],
      "metadata": {
        "colab": {
          "base_uri": "https://localhost:8080/"
        },
        "id": "swt1NhjzfJaU",
        "outputId": "fac1273e-b72a-420d-9490-0e4f29cd08a1"
      },
      "execution_count": 16,
      "outputs": [
        {
          "output_type": "stream",
          "name": "stdout",
          "text": [
            "Sayı giriniz: 8\n",
            "Asal mı: False\n",
            "Sayı giriniz: 8\n",
            "Asal mı: False\n"
          ]
        }
      ]
    },
    {
      "cell_type": "code",
      "source": [
        "# 10. Fonksiyon ile faktöriyel hesaplama (for ve while)\n",
        "\n",
        "# for ile\n",
        "\n",
        "def faktoriyel(sayi):\n",
        "    sonuc = 1\n",
        "    for i in range(1, sayi + 1):\n",
        "        sonuc *= i\n",
        "    return sonuc\n",
        "\n",
        "sayi = int(input(\"Sayı giriniz: \"))\n",
        "print(\"Faktöriyel:\", faktoriyel(sayi))\n",
        "\n",
        "# while ile\n",
        "\n",
        "def faktoriyel(sayi):\n",
        "    sonuc = 1\n",
        "    i = 1\n",
        "    while i <= sayi:\n",
        "        sonuc *= i\n",
        "        i += 1\n",
        "    return sonuc\n",
        "\n",
        "sayi = int(input(\"Sayı giriniz: \"))\n",
        "print(\"Faktöriyel:\", faktoriyel(sayi))"
      ],
      "metadata": {
        "colab": {
          "base_uri": "https://localhost:8080/"
        },
        "id": "c8_Ge4jZfaHd",
        "outputId": "7fc4e58d-ab33-4023-d026-5eaee3948a3c"
      },
      "execution_count": 17,
      "outputs": [
        {
          "output_type": "stream",
          "name": "stdout",
          "text": [
            "Sayı giriniz: 3\n",
            "Faktöriyel: 6\n",
            "Sayı giriniz: 3\n",
            "Faktöriyel: 6\n"
          ]
        }
      ]
    }
  ]
}